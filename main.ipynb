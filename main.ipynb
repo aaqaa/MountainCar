{
 "cells": [
  {
   "cell_type": "code",
   "execution_count": 1,
   "metadata": {},
   "outputs": [
    {
     "name": "stdout",
     "output_type": "stream",
     "text": [
      "Requirement already satisfied: pyglet==1.5.0 in c:\\asheer\\anaconda\\lib\\site-packages (1.5.0)\n",
      "Requirement already satisfied: future in c:\\asheer\\anaconda\\lib\\site-packages (from pyglet==1.5.0) (0.18.2)\n"
     ]
    }
   ],
   "source": [
    "!pip install pyglet==1.5.0"
   ]
  },
  {
   "cell_type": "code",
   "execution_count": 2,
   "metadata": {},
   "outputs": [
    {
     "name": "stderr",
     "output_type": "stream",
     "text": [
      "Using TensorFlow backend.\n"
     ]
    }
   ],
   "source": [
    "import sys\n",
    "import gym\n",
    "import pylab\n",
    "import random\n",
    "import numpy as np\n",
    "import matplotlib.pyplot as plt\n",
    "from IPython import display\n",
    "from collections import deque\n",
    "from keras.layers import Dense,Activation\n",
    "from keras.optimizers import Adam\n",
    "from keras.models import Sequential\n",
    "from keras.models import model_from_json\n",
    "from Agent import MountainCarAgent\n",
    "from keras.layers import LeakyReLU\n",
    "from keras.initializers import he_normal\n",
    "from keras.initializers import RandomNormal\n",
    "\n",
    "from keras.optimizers import SGD\n",
    "\n",
    "\n"
   ]
  },
  {
   "cell_type": "code",
   "execution_count": null,
   "metadata": {},
   "outputs": [],
   "source": []
  },
  {
   "cell_type": "code",
   "execution_count": 3,
   "metadata": {},
   "outputs": [],
   "source": [
    "# to store rewards in each episode\n",
    "rewards_per_episode, episodes = [], []\n"
   ]
  },
  {
   "cell_type": "code",
   "execution_count": 4,
   "metadata": {},
   "outputs": [
    {
     "data": {
      "text/plain": [
       "array([-0.40551075,  0.        ])"
      ]
     },
     "execution_count": 4,
     "metadata": {},
     "output_type": "execute_result"
    }
   ],
   "source": [
    "env = gym.make('MountainCar-v0')\n",
    "env.reset()"
   ]
  },
  {
   "cell_type": "code",
   "execution_count": 5,
   "metadata": {},
   "outputs": [],
   "source": [
    "state_size = env.observation_space.shape[0] # equal to 4 in case of cartpole \n",
    "action_size = env.action_space.n  "
   ]
  },
  {
   "cell_type": "code",
   "execution_count": 6,
   "metadata": {},
   "outputs": [
    {
     "name": "stderr",
     "output_type": "stream",
     "text": [
      "C:\\Asheer\\anaconda\\lib\\site-packages\\keras\\activations.py:235: UserWarning: Do not pass a layer instance (such as LeakyReLU) as the activation argument of another layer. Instead, advanced activation layers should be used just like any other layer in a model.\n",
      "  identifier=identifier.__class__.__name__))\n"
     ]
    }
   ],
   "source": [
    "agent = MountainCarAgent(action_size, state_size)"
   ]
  },
  {
   "cell_type": "code",
   "execution_count": 7,
   "metadata": {},
   "outputs": [],
   "source": [
    "n_episodes = 40\n",
    "update_counter = 0\n",
    "epsilon = 1"
   ]
  },
  {
   "cell_type": "code",
   "execution_count": 8,
   "metadata": {},
   "outputs": [
    {
     "name": "stdout",
     "output_type": "stream",
     "text": [
      "episode 0, reward 0.011481111181025325, memory_length 200, epsilon 0.8213543943995963\n",
      "episode 1, reward 0.07922157150043421, memory_length 400, epsilon 0.6742807943399114\n",
      "episode 2, reward 0.2683259116791901, memory_length 600, epsilon 0.5538671150051557\n",
      "episode 3, reward 0.3488364757701446, memory_length 800, epsilon 0.4552807326425205\n",
      "episode 4, reward 0.3253255353444607, memory_length 1000, epsilon 0.3745650295675263\n",
      "episode 5, reward 1.5016522131170298, memory_length 1175, epsilon 0.3160366735973937\n",
      "episode 6, reward 0.22625593857152332, memory_length 1375, epsilon 0.2605616362438746\n",
      "episode 7, reward 0.35798486122037093, memory_length 1575, epsilon 0.2151425171343988\n",
      "episode 8, reward 1.516610624105506, memory_length 1750, epsilon 0.18220832626673847\n",
      "episode 9, reward 1.5040132668986927, memory_length 1929, epsilon 0.15398439751690954\n",
      "episode 10, reward 1.5224704350250113, memory_length 2000, epsilon 0.1303862041850159\n",
      "episode 11, reward 1.5565255963746574, memory_length 2000, epsilon 0.11035410117619167\n"
     ]
    }
   ],
   "source": [
    "#### simulation starts ####\n",
    "for episode in range(n_episodes):\n",
    "\n",
    "    done = False\n",
    "    score = 0\n",
    "    # reset at the start of each episode\n",
    "    state = env.reset()\n",
    "\n",
    "    while not done:\n",
    "        env.render()\n",
    "\n",
    "        agent.epsilon = 0.01 + (1 - 0.01) * np.exp(-0.001*update_counter)\n",
    "        update_counter = update_counter + 1\n",
    "        # get action for the current state and take a step in the environment\n",
    "        action = agent.get_action(state)\n",
    "        next_state, reward, done, info = env.step(action)\n",
    "        \n",
    "        reward = 100*((np.sin(3 * next_state[0]) * 0.0025 + 0.5 * next_state[1] * next_state[1]) - (np.sin(3 * state[0]) * 0.0025 + 0.5 * state[1] * state[1])) \n",
    "        \n",
    "        if next_state[0] >= 0.5:\n",
    "            reward += 1\n",
    "            \n",
    "        # save the sample <s, a, r, s', done> to the replay memory\n",
    "        agent.append_sample(state,action, reward, next_state,done)\n",
    "        \n",
    "        # train after each step\n",
    "        agent.train_model()\n",
    "\n",
    "        # add reward to the total score of this episode\n",
    "        score += reward\n",
    "        state = next_state\n",
    "        if done:\n",
    "            agent.update_target_model()\n",
    "        \n",
    " \n",
    "\n",
    "\n",
    "    # store total reward obtained in this episode\n",
    "    rewards_per_episode.append(score)\n",
    "    episodes.append(episode)\n",
    "    \n",
    "    # terminate if no major learning for previous 5 episodes\n",
    "    if np.mean(rewards_per_episode[-5:]) > 1.5 :\n",
    "        break;\n",
    "    \n",
    "    \n",
    "    # every episode:\n",
    "    print(\"episode {0}, reward {1}, memory_length {2}, epsilon {3}\".format(episode,\n",
    "                                                                         score,\n",
    "                                                                         len(agent.memory),\n",
    "                                                                         agent.epsilon))\n",
    "    # every few episodes:\n",
    "    if episode > 1 and episode % 5 == 0:\n",
    "        # save model weights\n",
    "        agent.save_model_weights(name=\"model_weights.h5\")\n",
    "\n",
    "#### simulation complete ####\n"
   ]
  },
  {
   "cell_type": "code",
   "execution_count": 9,
   "metadata": {},
   "outputs": [],
   "source": [
    "# save stuff as pickle\n",
    "# def save_pickle(obj, name):\n",
    "#     with open(name + '.pkl', 'wb') as f:\n",
    "#         pickle.dump(obj, f, pickle.HIGHEST_PROTOCOL)"
   ]
  },
  {
   "cell_type": "code",
   "execution_count": 10,
   "metadata": {},
   "outputs": [],
   "source": [
    "# save_pickle(rewards_per_episode, \"rewards_per_episode\")"
   ]
  },
  {
   "cell_type": "code",
   "execution_count": 11,
   "metadata": {},
   "outputs": [],
   "source": [
    "# plot results\n",
    "# with open('rewards_per_episode.pkl', 'rb') as f:\n",
    "#     rewards_per_episode = pickle.load(f)"
   ]
  },
  {
   "cell_type": "code",
   "execution_count": 12,
   "metadata": {},
   "outputs": [
    {
     "data": {
      "text/plain": [
       "Text(0, 0.5, 'reward per episode')"
      ]
     },
     "execution_count": 12,
     "metadata": {},
     "output_type": "execute_result"
    },
    {
     "data": {
      "image/png": "[encoded data removed]",
      "text/plain": [
       "<Figure size 432x288 with 1 Axes>"
      ]
     },
     "metadata": {
      "needs_background": "light"
     },
     "output_type": "display_data"
    }
   ],
   "source": [
    "plt.plot(list(range(len(rewards_per_episode))), rewards_per_episode)\n",
    "plt.xlabel(\"episode number\")\n",
    "plt.ylabel(\"reward per episode\")"
   ]
  },
  {
   "cell_type": "code",
   "execution_count": 13,
   "metadata": {},
   "outputs": [
    {
     "name": "stdout",
     "output_type": "stream",
     "text": [
      "Average reward of last 100 episodes is 0.8248356263630618\n"
     ]
    }
   ],
   "source": [
    "print(\"Average reward of last 100 episodes is {0}\".format(np.mean(rewards_per_episode[-100:]))) \n"
   ]
  },
  {
   "cell_type": "code",
   "execution_count": 14,
   "metadata": {},
   "outputs": [],
   "source": [
    "def play_game(ml_model, games=10):\n",
    "    \"\"\"\n",
    "    Play te Game\n",
    "    :param ml_model:\n",
    "    :param games:\n",
    "    :return:\n",
    "    \"\"\"\n",
    "\n",
    "    for i_episode in range(games):\n",
    "\n",
    "        # Define Reward Var\n",
    "        episode_reward = 0\n",
    "\n",
    "        # Reset Env for the Game\n",
    "        observation = env.reset()\n",
    "\n",
    "        while True:\n",
    "            render = env.render()\n",
    "\n",
    "            # Predict Next Movement\n",
    "            current_action_pred = ml_model.predict(observation.reshape(1, 2))[0]\n",
    "\n",
    "            # Define Movement\n",
    "            current_action = np.argmax(current_action_pred)\n",
    "\n",
    "            # Make Movement\n",
    "            observation, reward, done, info = env.step(current_action)\n",
    "\n",
    "            # Update Reward Value\n",
    "#             episode_reward += compute_reward(observation[[0]])\n",
    "\n",
    "            if done:\n",
    "                print(f\"Episode finished after {i_episode+1} steps\", end='')\n",
    "                break"
   ]
  },
  {
   "cell_type": "code",
   "execution_count": 15,
   "metadata": {},
   "outputs": [],
   "source": [
    "def build_model():\n",
    "    \n",
    "    \n",
    "    \n",
    "    init = he_normal(seed = 1000)\n",
    "#         init = RandomNormal(mean=0., stddev=1.)\n",
    "    model = Sequential()\n",
    "    model.add(Dense(48, input_dim=2,kernel_initializer = init))\n",
    "    model.add(LeakyReLU(alpha=0.1))\n",
    "\n",
    "    model.add(Dense(64,kernel_initializer = init))\n",
    "    model.add(LeakyReLU(alpha=0.1))\n",
    "\n",
    "#         model.add(Dense(self.action_size, activation=LeakyReLU(alpha=0.1)))\n",
    "    model.add(Dense(3, activation=LeakyReLU(alpha=0.1),kernel_initializer = init))\n",
    "    model.compile(loss=\"mean_squared_error\",\n",
    "              optimizer=Adam(lr = 0.0001))\n",
    "\n",
    "    return model"
   ]
  },
  {
   "cell_type": "code",
   "execution_count": 16,
   "metadata": {},
   "outputs": [
    {
     "name": "stderr",
     "output_type": "stream",
     "text": [
      "C:\\Asheer\\anaconda\\lib\\site-packages\\keras\\activations.py:235: UserWarning: Do not pass a layer instance (such as LeakyReLU) as the activation argument of another layer. Instead, advanced activation layers should be used just like any other layer in a model.\n",
      "  identifier=identifier.__class__.__name__))\n"
     ]
    },
    {
     "name": "stdout",
     "output_type": "stream",
     "text": [
      "Episode finished after 1 stepsEpisode finished after 2 stepsEpisode finished after 3 stepsEpisode finished after 4 stepsEpisode finished after 5 stepsEpisode finished after 6 stepsEpisode finished after 7 stepsEpisode finished after 8 stepsEpisode finished after 9 stepsEpisode finished after 10 steps"
     ]
    }
   ],
   "source": [
    "mymodel = build_model()\n",
    "mymodel.load_weights(\"./model_weights.h5\")\n",
    "play_game(mymodel)"
   ]
  },
  {
   "cell_type": "code",
   "execution_count": null,
   "metadata": {},
   "outputs": [],
   "source": []
  },
  {
   "cell_type": "code",
   "execution_count": null,
   "metadata": {},
   "outputs": [],
   "source": []
  },
  {
   "cell_type": "code",
   "execution_count": 17,
   "metadata": {},
   "outputs": [],
   "source": [
    "def build_model():\n",
    "    model = Sequential()\n",
    "    model.add(Dense(64, input_dim=2))\n",
    "    model.add(Activation('relu'))\n",
    "\n",
    "    model.add(Dense(64))\n",
    "    model.add(Activation('relu'))\n",
    "\n",
    "    model.add(Dense(3, activation=LeakyReLU(alpha=0.1)))\n",
    "    model.compile(loss=\"mean_squared_error\", optimizer=Adam(lr=0.02))\n",
    "                \n",
    "    return model"
   ]
  },
  {
   "cell_type": "code",
   "execution_count": 18,
   "metadata": {},
   "outputs": [],
   "source": [
    "time = np.arange(0,30000)\n",
    "epsilon = []\n",
    "for i in range(0,30000):\n",
    "    \n",
    "    epsilon.append(0.01 + (1 - 0.01) * np.exp(-0.0001*i))\n",
    "#     epsilon.append(0.001 + (1 - 0.001) * np.exp(-0.01*i))"
   ]
  },
  {
   "cell_type": "code",
   "execution_count": 19,
   "metadata": {},
   "outputs": [
    {
     "data": {
      "image/png": "[encoded data removed]",
      "text/plain": [
       "<Figure size 432x288 with 1 Axes>"
      ]
     },
     "metadata": {
      "needs_background": "light"
     },
     "output_type": "display_data"
    }
   ],
   "source": [
    "plt.plot(time, epsilon)\n",
    "plt.show()"
   ]
  },
  {
   "cell_type": "code",
   "execution_count": null,
   "metadata": {},
   "outputs": [],
   "source": []
  },
  {
   "cell_type": "code",
   "execution_count": null,
   "metadata": {},
   "outputs": [],
   "source": []
  },
  {
   "cell_type": "code",
   "execution_count": null,
   "metadata": {},
   "outputs": [],
   "source": []
  }
 ],
 "metadata": {
  "kernelspec": {
   "display_name": "Python 3",
   "language": "python",
   "name": "python3"
  },
  "language_info": {
   "codemirror_mode": {
    "name": "ipython",
    "version": 3
   },
   "file_extension": ".py",
   "mimetype": "text/x-python",
   "name": "python",
   "nbconvert_exporter": "python",
   "pygments_lexer": "ipython3",
   "version": "3.7.3"
  }
 },
 "nbformat": 4,
 "nbformat_minor": 4
}
